{
  "nbformat": 4,
  "nbformat_minor": 0,
  "metadata": {
    "colab": {
      "provenance": [],
      "authorship_tag": "ABX9TyPTzvs1mbs7JaihJvYu1Yjx",
      "include_colab_link": true
    },
    "kernelspec": {
      "name": "python3",
      "display_name": "Python 3"
    },
    "language_info": {
      "name": "python"
    }
  },
  "cells": [
    {
      "cell_type": "markdown",
      "metadata": {
        "id": "view-in-github",
        "colab_type": "text"
      },
      "source": [
        "<a href=\"https://colab.research.google.com/github/iamritikiit/DeepLearning/blob/main/Assignment_1_NN.ipynb\" target=\"_parent\"><img src=\"https://colab.research.google.com/assets/colab-badge.svg\" alt=\"Open In Colab\"/></a>"
      ]
    },
    {
      "cell_type": "code",
      "execution_count": 30,
      "metadata": {
        "id": "Z4kyPXJuUggp"
      },
      "outputs": [],
      "source": [
        "import numpy as np\n",
        "import matplotlib.pyplot as plt"
      ]
    },
    {
      "cell_type": "markdown",
      "source": [
        "Data"
      ],
      "metadata": {
        "id": "Jt1Pg90QnsZB"
      }
    },
    {
      "cell_type": "code",
      "source": [
        "def f(x):\n",
        "  return np.exp(-np.sin(x**2)/2) + x\n",
        "X = np.linspace(-10, 10, 25).reshape(1, -1)\n",
        "Y = f(X)"
      ],
      "metadata": {
        "id": "J8-093BvVF8C"
      },
      "execution_count": 31,
      "outputs": []
    },
    {
      "cell_type": "markdown",
      "source": [
        "Train/test split"
      ],
      "metadata": {
        "id": "zDLrxsUwnv_m"
      }
    },
    {
      "cell_type": "code",
      "source": [
        "perm = np.random.permutation(X.shape[1])\n",
        "train_idx, test_idx = perm[:20], perm[20:]\n",
        "X_train, Y_train = X[:, train_idx], Y[:, train_idx]\n",
        "X_test,  Y_test  = X[:, test_idx],  Y[:, test_idx]"
      ],
      "metadata": {
        "id": "rxpYPOHVW8tn"
      },
      "execution_count": 32,
      "outputs": []
    },
    {
      "cell_type": "markdown",
      "source": [
        "taking tanh"
      ],
      "metadata": {
        "id": "FR-ET3XSne0o"
      }
    },
    {
      "cell_type": "code",
      "source": [
        "def tanh(x):\n",
        "  return np.tanh(x)\n",
        "def dtanh(x):\n",
        "  return 1 - np.tanh(x)**2      # derivative\n",
        "g, gprime = tanh, dtanh"
      ],
      "metadata": {
        "id": "6R04srheXL5S"
      },
      "execution_count": 33,
      "outputs": []
    },
    {
      "cell_type": "markdown",
      "source": [
        "taknig relu function"
      ],
      "metadata": {
        "id": "OxI8fqtxnii6"
      }
    },
    {
      "cell_type": "code",
      "source": [
        "# def relu(x):\n",
        "#     return np.maximum(0, x)\n",
        "\n",
        "# def drelu(x):\n",
        "#     return (x > 0).astype(float)\n",
        "# g, gprime = relu, drelu"
      ],
      "metadata": {
        "id": "gvoTHKjLioOY"
      },
      "execution_count": 34,
      "outputs": []
    },
    {
      "cell_type": "markdown",
      "source": [
        "Init params"
      ],
      "metadata": {
        "id": "GJnGhEWhn1vT"
      }
    },
    {
      "cell_type": "code",
      "source": [
        "rng = np.random.default_rng(0)\n",
        "W1, b1 = rng.normal(size=(1,1)), np.zeros((1,1))\n",
        "W2, b2 = rng.normal(size=(1,1)), np.zeros((1,1))\n",
        "W3, b3 = rng.normal(size=(1,1)), np.zeros((1,1))"
      ],
      "metadata": {
        "id": "ZSG1CJ3bXTyA"
      },
      "execution_count": 35,
      "outputs": []
    },
    {
      "cell_type": "code",
      "source": [
        "lr = 0.01\n",
        "epochs = 10000"
      ],
      "metadata": {
        "id": "IEdST2VEXXLC"
      },
      "execution_count": 36,
      "outputs": []
    },
    {
      "cell_type": "markdown",
      "source": [
        "Training loop"
      ],
      "metadata": {
        "id": "dGUfZX1ioIfI"
      }
    },
    {
      "cell_type": "code",
      "source": [
        "m = X_train.shape[1]\n",
        "for i in range(epochs):\n",
        "    # forward\n",
        "    z1 = W1 @ X_train + b1\n",
        "    a1 = g(z1)\n",
        "    z2 = W2 @ a1 + b2\n",
        "    a2 = g(z2)\n",
        "    z3 = W3 @ a2 + b3\n",
        "    yhat = g(z3)\n",
        "\n",
        "    # loss (MSE)\n",
        "    loss = np.mean((yhat - Y_train)**2)\n",
        "\n",
        "    # backward\n",
        "    dz3 = 2*(yhat - Y_train) * gprime(z3) / m\n",
        "    dW3 = dz3 @ a2.T\n",
        "    db3 = np.sum(dz3, axis=1, keepdims=True)\n",
        "\n",
        "    dz2 = (W3.T @ dz3) * gprime(z2)\n",
        "    dW2 = dz2 @ a1.T\n",
        "    db2 = np.sum(dz2, axis=1, keepdims=True)\n",
        "\n",
        "    dz1 = (W2.T @ dz2) * gprime(z1)\n",
        "    dW1 = dz1 @ X_train.T\n",
        "    db1 = np.sum(dz1, axis=1, keepdims=True)\n",
        "\n",
        "    # update\n",
        "    W3 -= lr*dW3; b3 -= lr*db3\n",
        "    W2 -= lr*dW2; b2 -= lr*db2\n",
        "    W1 -= lr*dW1; b1 -= lr*db1\n",
        "\n",
        "    if i % 2000 == 0:\n",
        "        print(f\"Epoch {i}: loss {loss:.4f}\")\n"
      ],
      "metadata": {
        "colab": {
          "base_uri": "https://localhost:8080/"
        },
        "id": "4B5V1i2rXZyI",
        "outputId": "86e98c9f-73d7-4a61-ae27-28a38f679589"
      },
      "execution_count": 40,
      "outputs": [
        {
          "output_type": "stream",
          "name": "stdout",
          "text": [
            "Epoch 0: loss 22.7106\n",
            "Epoch 2000: loss 22.7101\n",
            "Epoch 4000: loss 22.7098\n",
            "Epoch 6000: loss 22.7096\n",
            "Epoch 8000: loss 22.7094\n"
          ]
        }
      ]
    },
    {
      "cell_type": "markdown",
      "source": [
        "Evaluation"
      ],
      "metadata": {
        "id": "UKFpkHI1oVEC"
      }
    },
    {
      "cell_type": "code",
      "source": [
        "def predict(X):\n",
        "    a1 = g(W1 @ X + b1)\n",
        "    a2 = g(W2 @ a1 + b2)\n",
        "    return g(W3 @ a2 + b3)\n",
        "train_pred = predict(X_train)\n",
        "test_pred  = predict(X_test)\n",
        "print(\"Train MSE:\", np.mean((train_pred - Y_train)**2))\n",
        "print(\"Test  MSE:\", np.mean((test_pred  - Y_test )**2))"
      ],
      "metadata": {
        "colab": {
          "base_uri": "https://localhost:8080/"
        },
        "id": "HKCy3B8zYKFZ",
        "outputId": "88cd4560-6cd0-45a0-be82-a6f5fbeb13ba"
      },
      "execution_count": 41,
      "outputs": [
        {
          "output_type": "stream",
          "name": "stdout",
          "text": [
            "Train MSE: 22.70930785727114\n",
            "Test  MSE: 48.074199046720665\n"
          ]
        }
      ]
    },
    {
      "cell_type": "markdown",
      "source": [
        "Plot"
      ],
      "metadata": {
        "id": "vYTaTnhKoYB1"
      }
    },
    {
      "cell_type": "code",
      "source": [
        "xs = np.linspace(-10,10,200).reshape(1,-1)\n",
        "plt.plot(xs.flatten(), f(xs).flatten(), label=\"True f(x)\")\n",
        "plt.plot(xs.flatten(), predict(xs).flatten(), label=\"NN prediction\")\n",
        "plt.scatter(X_train, Y_train, color='red', s=15, label=\"Train pts\")\n",
        "plt.legend(); plt.show()"
      ],
      "metadata": {
        "colab": {
          "base_uri": "https://localhost:8080/",
          "height": 430
        },
        "id": "T0l9USDCY-Cd",
        "outputId": "e6e60d43-1b1b-4284-e7c4-10fe5bf43cad"
      },
      "execution_count": 42,
      "outputs": [
        {
          "output_type": "display_data",
          "data": {
            "text/plain": [
              "<Figure size 640x480 with 1 Axes>"
            ],
            "image/png": "[encoded data removed]"
          },
          "metadata": {}
        }
      ]
    }
  ]
}